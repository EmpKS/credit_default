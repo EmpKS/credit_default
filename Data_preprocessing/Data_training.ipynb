{
 "cells": [
  {
   "cell_type": "markdown",
   "metadata": {},
   "source": [
    "### Data_loading"
   ]
  },
  {
   "cell_type": "code",
   "execution_count": 26,
   "metadata": {},
   "outputs": [
    {
     "name": "stdout",
     "output_type": "stream",
     "text": [
      "Populating the interactive namespace from numpy and matplotlib\n"
     ]
    }
   ],
   "source": [
    "%pylab inline"
   ]
  },
  {
   "cell_type": "code",
   "execution_count": 1,
   "metadata": {},
   "outputs": [
    {
     "data": {
      "text/html": [
       "<div>\n",
       "<style scoped>\n",
       "    .dataframe tbody tr th:only-of-type {\n",
       "        vertical-align: middle;\n",
       "    }\n",
       "\n",
       "    .dataframe tbody tr th {\n",
       "        vertical-align: top;\n",
       "    }\n",
       "\n",
       "    .dataframe thead th {\n",
       "        text-align: right;\n",
       "    }\n",
       "</style>\n",
       "<table border=\"1\" class=\"dataframe\">\n",
       "  <thead>\n",
       "    <tr style=\"text-align: right;\">\n",
       "      <th></th>\n",
       "      <th>level_0</th>\n",
       "      <th>index</th>\n",
       "      <th>limit_balance</th>\n",
       "      <th>pay_amt_1</th>\n",
       "      <th>pay_amt_2</th>\n",
       "      <th>pay_amt_3</th>\n",
       "      <th>pay_amt_4</th>\n",
       "      <th>pay_amt_5</th>\n",
       "      <th>pay_amt_6</th>\n",
       "      <th>sex</th>\n",
       "      <th>...</th>\n",
       "      <th>age</th>\n",
       "      <th>default_payment_next_month</th>\n",
       "      <th>degree_graduate school</th>\n",
       "      <th>degree_high school</th>\n",
       "      <th>degree_others</th>\n",
       "      <th>degree_university</th>\n",
       "      <th>bill_amt_pca_0</th>\n",
       "      <th>pay_pca_0</th>\n",
       "      <th>pay_pca_1</th>\n",
       "      <th>pay_pca_2</th>\n",
       "    </tr>\n",
       "  </thead>\n",
       "  <tbody>\n",
       "    <tr>\n",
       "      <th>0</th>\n",
       "      <td>-1.732273</td>\n",
       "      <td>-1.732011</td>\n",
       "      <td>-0.410678</td>\n",
       "      <td>-0.332002</td>\n",
       "      <td>2.939189</td>\n",
       "      <td>-0.090393</td>\n",
       "      <td>-0.008440</td>\n",
       "      <td>-0.150843</td>\n",
       "      <td>-0.158599</td>\n",
       "      <td>0.806170</td>\n",
       "      <td>...</td>\n",
       "      <td>-1.238349</td>\n",
       "      <td>0</td>\n",
       "      <td>0</td>\n",
       "      <td>0</td>\n",
       "      <td>0</td>\n",
       "      <td>1</td>\n",
       "      <td>0.042805</td>\n",
       "      <td>0.722921</td>\n",
       "      <td>-0.702588</td>\n",
       "      <td>-0.737489</td>\n",
       "    </tr>\n",
       "    <tr>\n",
       "      <th>1</th>\n",
       "      <td>-1.732157</td>\n",
       "      <td>-1.731895</td>\n",
       "      <td>-1.048194</td>\n",
       "      <td>-0.332338</td>\n",
       "      <td>-0.236989</td>\n",
       "      <td>-0.280829</td>\n",
       "      <td>0.062325</td>\n",
       "      <td>0.084083</td>\n",
       "      <td>-0.283917</td>\n",
       "      <td>-1.240432</td>\n",
       "      <td>...</td>\n",
       "      <td>-1.020526</td>\n",
       "      <td>0</td>\n",
       "      <td>0</td>\n",
       "      <td>0</td>\n",
       "      <td>0</td>\n",
       "      <td>1</td>\n",
       "      <td>-0.649904</td>\n",
       "      <td>6.150854</td>\n",
       "      <td>0.529218</td>\n",
       "      <td>0.639598</td>\n",
       "    </tr>\n",
       "    <tr>\n",
       "      <th>2</th>\n",
       "      <td>-1.732041</td>\n",
       "      <td>-1.731780</td>\n",
       "      <td>-0.888815</td>\n",
       "      <td>-0.332338</td>\n",
       "      <td>-0.236989</td>\n",
       "      <td>-0.280829</td>\n",
       "      <td>-0.206498</td>\n",
       "      <td>-0.201117</td>\n",
       "      <td>-0.204027</td>\n",
       "      <td>-1.240432</td>\n",
       "      <td>...</td>\n",
       "      <td>-0.367057</td>\n",
       "      <td>0</td>\n",
       "      <td>0</td>\n",
       "      <td>0</td>\n",
       "      <td>0</td>\n",
       "      <td>1</td>\n",
       "      <td>0.145787</td>\n",
       "      <td>5.235723</td>\n",
       "      <td>-4.098271</td>\n",
       "      <td>0.236097</td>\n",
       "    </tr>\n",
       "    <tr>\n",
       "      <th>3</th>\n",
       "      <td>-1.731809</td>\n",
       "      <td>-1.731433</td>\n",
       "      <td>-1.127883</td>\n",
       "      <td>-0.332338</td>\n",
       "      <td>-0.236989</td>\n",
       "      <td>-0.219674</td>\n",
       "      <td>-0.196573</td>\n",
       "      <td>-0.307461</td>\n",
       "      <td>-0.095940</td>\n",
       "      <td>-1.240432</td>\n",
       "      <td>...</td>\n",
       "      <td>-1.020526</td>\n",
       "      <td>0</td>\n",
       "      <td>0</td>\n",
       "      <td>0</td>\n",
       "      <td>0</td>\n",
       "      <td>1</td>\n",
       "      <td>-0.934077</td>\n",
       "      <td>5.821517</td>\n",
       "      <td>0.140890</td>\n",
       "      <td>1.124642</td>\n",
       "    </tr>\n",
       "    <tr>\n",
       "      <th>4</th>\n",
       "      <td>-1.731230</td>\n",
       "      <td>-1.730854</td>\n",
       "      <td>-1.127883</td>\n",
       "      <td>-0.332338</td>\n",
       "      <td>-0.236989</td>\n",
       "      <td>-0.280829</td>\n",
       "      <td>-0.225340</td>\n",
       "      <td>-0.229152</td>\n",
       "      <td>-0.221258</td>\n",
       "      <td>-1.240432</td>\n",
       "      <td>...</td>\n",
       "      <td>-0.475969</td>\n",
       "      <td>0</td>\n",
       "      <td>0</td>\n",
       "      <td>0</td>\n",
       "      <td>0</td>\n",
       "      <td>1</td>\n",
       "      <td>-0.863343</td>\n",
       "      <td>3.962035</td>\n",
       "      <td>-1.634116</td>\n",
       "      <td>2.364772</td>\n",
       "    </tr>\n",
       "  </tbody>\n",
       "</table>\n",
       "<p>5 rows × 21 columns</p>\n",
       "</div>"
      ],
      "text/plain": [
       "    level_0     index  limit_balance  pay_amt_1  pay_amt_2  pay_amt_3  \\\n",
       "0 -1.732273 -1.732011      -0.410678  -0.332002   2.939189  -0.090393   \n",
       "1 -1.732157 -1.731895      -1.048194  -0.332338  -0.236989  -0.280829   \n",
       "2 -1.732041 -1.731780      -0.888815  -0.332338  -0.236989  -0.280829   \n",
       "3 -1.731809 -1.731433      -1.127883  -0.332338  -0.236989  -0.219674   \n",
       "4 -1.731230 -1.730854      -1.127883  -0.332338  -0.236989  -0.280829   \n",
       "\n",
       "   pay_amt_4  pay_amt_5  pay_amt_6       sex  ...       age  \\\n",
       "0  -0.008440  -0.150843  -0.158599  0.806170  ... -1.238349   \n",
       "1   0.062325   0.084083  -0.283917 -1.240432  ... -1.020526   \n",
       "2  -0.206498  -0.201117  -0.204027 -1.240432  ... -0.367057   \n",
       "3  -0.196573  -0.307461  -0.095940 -1.240432  ... -1.020526   \n",
       "4  -0.225340  -0.229152  -0.221258 -1.240432  ... -0.475969   \n",
       "\n",
       "   default_payment_next_month  degree_graduate school  degree_high school  \\\n",
       "0                           0                       0                   0   \n",
       "1                           0                       0                   0   \n",
       "2                           0                       0                   0   \n",
       "3                           0                       0                   0   \n",
       "4                           0                       0                   0   \n",
       "\n",
       "   degree_others  degree_university  bill_amt_pca_0  pay_pca_0  pay_pca_1  \\\n",
       "0              0                  1        0.042805   0.722921  -0.702588   \n",
       "1              0                  1       -0.649904   6.150854   0.529218   \n",
       "2              0                  1        0.145787   5.235723  -4.098271   \n",
       "3              0                  1       -0.934077   5.821517   0.140890   \n",
       "4              0                  1       -0.863343   3.962035  -1.634116   \n",
       "\n",
       "   pay_pca_2  \n",
       "0  -0.737489  \n",
       "1   0.639598  \n",
       "2   0.236097  \n",
       "3   1.124642  \n",
       "4   2.364772  \n",
       "\n",
       "[5 rows x 21 columns]"
      ]
     },
     "execution_count": 1,
     "metadata": {},
     "output_type": "execute_result"
    }
   ],
   "source": [
    "import pandas as pd\n",
    "\n",
    "credit_df_scaled = pd.read_csv('./data/credit_scaled.csv')\n",
    "credit_df_scaled.head()"
   ]
  },
  {
   "cell_type": "markdown",
   "metadata": {},
   "source": [
    "### Training"
   ]
  },
  {
   "cell_type": "code",
   "execution_count": 2,
   "metadata": {},
   "outputs": [],
   "source": [
    "from xgboost import XGBClassifier\n",
    "from sklearn.metrics import accuracy_score\n",
    "from sklearn.metrics import roc_auc_score\n",
    "from sklearn.model_selection import StratifiedKFold"
   ]
  },
  {
   "cell_type": "code",
   "execution_count": 3,
   "metadata": {},
   "outputs": [],
   "source": [
    "X_df = credit_df_scaled.drop(['default_payment_next_month'],axis=1)\n",
    "Y_df = credit_df_scaled.default_payment_next_month"
   ]
  },
  {
   "cell_type": "code",
   "execution_count": 4,
   "metadata": {},
   "outputs": [],
   "source": [
    "from sklearn.model_selection import train_test_split\n",
    "\n",
    "X = X_df.values\n",
    "y = Y_df.values.flatten()\n",
    "\n",
    "x_train, x_test, y_train, y_test = train_test_split(X, y, test_size=0.2, random_state=45)"
   ]
  },
  {
   "cell_type": "code",
   "execution_count": 27,
   "metadata": {},
   "outputs": [],
   "source": [
    "from datetime import datetime\n",
    "def timer(start_time=None):\n",
    "    if not start_time:\n",
    "        start_time = datetime.now()\n",
    "        return start_time\n",
    "    elif start_time:\n",
    "        thour, temp_sec = divmod((datetime.now() - start_time).total_seconds(), 3600)\n",
    "        tmin, tsec = divmod(temp_sec, 60)\n",
    "        print('\\n Time taken: %i hours %i minutes and %s seconds.' % (thour, tmin, round(tsec, 2)))"
   ]
  },
  {
   "cell_type": "markdown",
   "metadata": {},
   "source": [
    "###  Logistic Regression"
   ]
  },
  {
   "cell_type": "code",
   "execution_count": 18,
   "metadata": {},
   "outputs": [],
   "source": [
    "from sklearn.linear_model import LogisticRegression\n",
    "from sklearn.linear_model import SGDClassifier"
   ]
  },
  {
   "cell_type": "code",
   "execution_count": 19,
   "metadata": {},
   "outputs": [],
   "source": [
    "def test(x_train, y_train):\n",
    "    \n",
    "    # stohastic gradient\n",
    "    from sklearn.model_selection import GridSearchCV\n",
    "    \n",
    "\n",
    "    model1 = SGDClassifier(random_state = 45)\n",
    "\n",
    "    #params\n",
    "    param_grid = {\"max_iter\": [10, 50, 100, 1000],\n",
    "                  \"alpha\": [0.001, 0.01, 0.1, 1],\n",
    "                  \"penalty\": [\"l1\", \"l2\", \"none\"]}\n",
    "\n",
    "    # run grid search\n",
    "    model1 = GridSearchCV(model1, param_grid=param_grid, scoring='roc_auc')\n",
    "    model1.fit(x_train, y_train)\n",
    "\n",
    "    print(f'Best params = {model1.best_params_}')\n",
    "\n",
    "    # simple gradient\n",
    "    model2 = LogisticRegression(random_state = 45)\n",
    "    gs_values = {'penalty': ['l1', 'l2'], 'C':[1, 2, 5, 10, 15]}\n",
    "    model2 = GridSearchCV(model2, param_grid=gs_values, scoring='roc_auc')\n",
    "    model2.fit(x_train, y_train)\n",
    "    print(f'Best params = {model2.best_params_}')\n",
    "    return model1, model2"
   ]
  },
  {
   "cell_type": "code",
   "execution_count": 20,
   "metadata": {},
   "outputs": [
    {
     "name": "stdout",
     "output_type": "stream",
     "text": [
      "Best params = {'alpha': 0.1, 'max_iter': 10, 'penalty': 'l2'}\n",
      "Best params = {'C': 15, 'penalty': 'l2'}\n"
     ]
    }
   ],
   "source": [
    "sgd_model, log_reg_moddel = test(x_train, y_train)"
   ]
  },
  {
   "cell_type": "markdown",
   "metadata": {},
   "source": [
    "### XGBOOST"
   ]
  },
  {
   "cell_type": "code",
   "execution_count": 28,
   "metadata": {},
   "outputs": [],
   "source": [
    "# params = {\n",
    "#         'min_child_weight': [1, 5, 10],\n",
    "#         'gamma': [0.5, 1, 1.5, 2, 5],\n",
    "#         'subsample': [0.6, 0.8, 1.0],\n",
    "#         'colsample_bytree': [0.6, 0.8, 1.0],\n",
    "#         'max_depth': [3, 5, 8, 12]\n",
    "#         }\n",
    "\n",
    "params = {\n",
    "        'min_child_weight': [1],\n",
    "        'gamma': [0.5, 0.3],\n",
    "        'subsample': [0.8],\n",
    "        'colsample_bytree': [1.0],\n",
    "        'max_depth': [12, 15]\n",
    "        }\n",
    "xgb = XGBClassifier(objective='binary:logistic',\n",
    "                    silent=True, nthread=1, tree_method='gpu_hist', gpu_id=0)"
   ]
  },
  {
   "cell_type": "code",
   "execution_count": 29,
   "metadata": {},
   "outputs": [
    {
     "name": "stdout",
     "output_type": "stream",
     "text": [
      "Fitting 5 folds for each of 4 candidates, totalling 20 fits\n"
     ]
    },
    {
     "name": "stderr",
     "output_type": "stream",
     "text": [
      "[Parallel(n_jobs=8)]: Using backend LokyBackend with 8 concurrent workers.\n",
      "[Parallel(n_jobs=8)]: Done  12 out of  20 | elapsed:  1.4min remaining:   57.3s\n",
      "[Parallel(n_jobs=8)]: Done  20 out of  20 | elapsed:  1.9min finished\n"
     ]
    },
    {
     "name": "stdout",
     "output_type": "stream",
     "text": [
      "\n",
      " Time taken: 0 hours 1 minutes and 59.96 seconds.\n"
     ]
    }
   ],
   "source": [
    "from sklearn.model_selection import GridSearchCV\n",
    "folds = 5\n",
    "\n",
    "skf = StratifiedKFold(n_splits=folds, shuffle = True, random_state = 45)\n",
    "\n",
    "random_search = GridSearchCV(xgb,\n",
    "                             param_grid=params,\n",
    "                             scoring='roc_auc',\n",
    "                             n_jobs=8,\n",
    "                             cv=skf.split(x_train,y_train),\n",
    "                             verbose=3\n",
    "                            )\n",
    "\n",
    "# train\n",
    "start_time = timer(None) \n",
    "random_search.fit(x_train, y_train)\n",
    "timer(start_time) "
   ]
  },
  {
   "cell_type": "code",
   "execution_count": 39,
   "metadata": {},
   "outputs": [
    {
     "data": {
      "text/plain": [
       "['GS_obj_1_1.pkl']"
      ]
     },
     "execution_count": 39,
     "metadata": {},
     "output_type": "execute_result"
    }
   ],
   "source": [
    "from sklearn.externals import joblib\n",
    "\n",
    "joblib.dump(random_search.best_estimator_, 'GS_obj_1_1.pkl')\n",
    "# best_estimator = joblib.load('GS_obj_1_1.pkl')"
   ]
  },
  {
   "cell_type": "markdown",
   "metadata": {},
   "source": [
    "## ANN"
   ]
  },
  {
   "cell_type": "code",
   "execution_count": 7,
   "metadata": {},
   "outputs": [],
   "source": [
    "import torch\n",
    "from torch.utils.data import DataLoader, Dataset\n",
    "from torchvision import transforms\n",
    "\n",
    "import torch.nn as nn\n",
    "import torch.nn.functional as F\n",
    "\n",
    "import torch.optim as optim\n",
    "\n",
    "import numpy as np\n",
    "import random\n",
    "import os\n",
    "\n",
    "import warnings\n",
    "warnings.filterwarnings('ignore')"
   ]
  },
  {
   "cell_type": "code",
   "execution_count": 8,
   "metadata": {},
   "outputs": [],
   "source": [
    "def set_seed():\n",
    "    seed = 42\n",
    "    torch.manual_seed(seed)\n",
    "    torch.cuda.manual_seed_all(seed)\n",
    "    torch.backends.cudnn.deterministic = True\n",
    "    torch.backends.cudnn.benchmark = False\n",
    "    np.random.seed(seed)\n",
    "    random.seed(seed)"
   ]
  },
  {
   "cell_type": "code",
   "execution_count": 9,
   "metadata": {},
   "outputs": [],
   "source": [
    "device = torch.device('cuda:0' if torch.cuda.is_available() else 'cpu')"
   ]
  },
  {
   "cell_type": "code",
   "execution_count": 10,
   "metadata": {},
   "outputs": [],
   "source": [
    "class MyDataset(Dataset):\n",
    "    \n",
    "    def __init__(self, X, y):\n",
    "\n",
    "        \"\"\" \n",
    "          Data loader  with tranforming, \n",
    "          preparing  to feed CNN by Torch lib\n",
    "        \"\"\"     \n",
    "        self.data = X\n",
    "        self.target = y\n",
    "    \n",
    "    def __len__(self):\n",
    "        return len(self.data)\n",
    "\n",
    "\n",
    "    def __getitem__(self, idx):\n",
    "        \n",
    "        target = int(self.target[idx])\n",
    "        input_data = torch.from_numpy(self.data[idx])\n",
    "        \n",
    "        return input_data, target"
   ]
  },
  {
   "cell_type": "code",
   "execution_count": 11,
   "metadata": {},
   "outputs": [],
   "source": [
    "x_train = x_train.astype(np.float32)\n",
    "# y_train = y_train.astype(np.int32)\n",
    "\n",
    "x_test = x_test.astype(np.float32)\n",
    "y_test = y_test.astype(np.int32)\n",
    "\n",
    "train_dataset = MyDataset(x_train, y_train)\n",
    "test_dataset = MyDataset(x_test, y_test)\n",
    "\n",
    "train_loader = DataLoader(train_dataset,\n",
    "                          batch_size=256,\n",
    "                          num_workers=0,\n",
    "                          shuffle=False)\n",
    "\n",
    "test_loader = DataLoader(test_dataset,\n",
    "                          batch_size=256,\n",
    "                          num_workers=0,\n",
    "                          shuffle=False)\n",
    "\n",
    "sizes = {'train': len(train_dataset), \n",
    "         'test': len(test_dataset)}\n",
    "         \n",
    "loaders = {'train': train_loader, 'test': test_loader}"
   ]
  },
  {
   "cell_type": "code",
   "execution_count": 12,
   "metadata": {},
   "outputs": [],
   "source": [
    "class NeuralNetwork(nn.Module):\n",
    "\n",
    "    def __init__(self, input_size, output_size, hidden_size=20):\n",
    "        \"\"\"\n",
    "          Define your NN here. Implement an ability to use different activations.\n",
    "\n",
    "          Args:\n",
    "            activation: {sigmoid, relu, tanh} default sigmoid. \n",
    "              Defines which activation function to use.\n",
    "            hidden_size: default 64\n",
    "              Defines the size of hidden layer.\n",
    "        \"\"\"\n",
    "\n",
    "        super(NeuralNetwork, self).__init__()\n",
    "\n",
    "\n",
    "        self.input_layer = nn.Linear(input_size, hidden_size)\n",
    "        self.relu1 = nn.ReLU()\n",
    "        self.dropout1 = nn.Dropout()\n",
    "\n",
    "        self.hidden_layer = nn.Linear(hidden_size, hidden_size)\n",
    "        self.relu2 = nn.ReLU()\n",
    "        self.dropout2 = nn.Dropout()\n",
    "\n",
    "        self.output_layer = nn.Linear(hidden_size, output_size)\n",
    "\n",
    "\n",
    "    def forward(self, X):\n",
    "        \"\"\"\n",
    "          Forward propagation of your NN (inference).\n",
    "\n",
    "          Args:\n",
    "            X: input data\n",
    "          Returns\n",
    "            output: nn's raw output (logits)\n",
    "            probs: probabilities of classes by softmax function\n",
    "        \"\"\"\n",
    "\n",
    "        output = self.input_layer(X)  \n",
    "        output = self.relu1(output) \n",
    "        output = self.dropout1(output)\n",
    "\n",
    "        output = self.hidden_layer(output)\n",
    "        output = self.relu2(output)         \n",
    "        output = self.dropout2(output)    \n",
    "\n",
    "        output = self.output_layer(output)\n",
    "\n",
    "        return output"
   ]
  },
  {
   "cell_type": "code",
   "execution_count": 13,
   "metadata": {},
   "outputs": [
    {
     "data": {
      "text/plain": [
       "NeuralNetwork(\n",
       "  (input_layer): Linear(in_features=20, out_features=20, bias=True)\n",
       "  (relu1): ReLU()\n",
       "  (dropout1): Dropout(p=0.5, inplace=False)\n",
       "  (hidden_layer): Linear(in_features=20, out_features=20, bias=True)\n",
       "  (relu2): ReLU()\n",
       "  (dropout2): Dropout(p=0.5, inplace=False)\n",
       "  (output_layer): Linear(in_features=20, out_features=2, bias=True)\n",
       ")"
      ]
     },
     "execution_count": 13,
     "metadata": {},
     "output_type": "execute_result"
    }
   ],
   "source": [
    "set_seed()\n",
    "ann_model = NeuralNetwork(len(train_dataset[0][0]), 2, hidden_size=20)\n",
    "ann_model.to(device)"
   ]
  },
  {
   "cell_type": "code",
   "execution_count": 14,
   "metadata": {},
   "outputs": [],
   "source": [
    "def eval_model(model, loader, criterion, phase):\n",
    "    model.eval()\n",
    "    \n",
    "    avg_loss = 0\n",
    "    acc = 0\n",
    "    \n",
    "    for data, target in loader: \n",
    "        data = data.to(device)\n",
    "        target = target.to(device)\n",
    "        \n",
    "        with torch.no_grad():\n",
    "            logits = model(data)\n",
    "        \n",
    "        loss = criterion(logits, target)\n",
    "        \n",
    "        avg_loss += loss.item()\n",
    "        acc += (logits.argmax(1) == target).sum().item()\n",
    "        \n",
    "    avg_loss /= len(loaders[phase])\n",
    "    acc /=  sizes[phase]\n",
    "\n",
    "    print('  {} phase:'.format(phase))\n",
    "    print('    Loss: {0:.5}'.format(avg_loss))\n",
    "    print('    Acc: {0:.5}'.format(acc))"
   ]
  },
  {
   "cell_type": "code",
   "execution_count": 15,
   "metadata": {},
   "outputs": [],
   "source": [
    "def train_model(model, train_loader, test_loader, num_epochs, checkpoint_step, eval_step, criterion, optimizer):\n",
    "    \"\"\"\n",
    "    Training loop.\n",
    "    \"\"\"\n",
    "    for epoch in range(num_epochs):\n",
    "\n",
    "        for data, target in train_loader:\n",
    "            data = data.to(device)     \n",
    "            target = target.to(device)\n",
    "\n",
    "            optimizer.zero_grad() \n",
    "                                    \n",
    "\n",
    "            logits = model(data)\n",
    "\n",
    "            loss = criterion(logits, target) \n",
    "\n",
    "            loss.backward()\n",
    "            optimizer.step()\n",
    "\n",
    "        if epoch % eval_step == 0 or epoch == num_epochs - 1: \n",
    "            print('{} epoch:'.format(epoch))\n",
    "            eval_model(model, test_loader, criterion, 'test')\n",
    "            eval_model(model, train_loader, criterion,'train')\n",
    "\n",
    "        if epoch % checkpoint_step == 0 or epoch == num_epochs - 1:\n",
    "            print('Saving model_ann-{}.pt...'.format(epoch))\n",
    "            torch.save(model, 'models/model_ann-{}.pt'.format(epoch))\n",
    "\n",
    "    return model"
   ]
  },
  {
   "cell_type": "code",
   "execution_count": 16,
   "metadata": {},
   "outputs": [
    {
     "name": "stdout",
     "output_type": "stream",
     "text": [
      "  test phase:\n",
      "    Loss: 0.6987\n",
      "    Acc: 0.46136\n"
     ]
    }
   ],
   "source": [
    "criterion = nn.CrossEntropyLoss()\n",
    "optimizer = optim.SGD(ann_model.parameters(), lr=0.01)\n",
    "\n",
    "eval_model(ann_model, test_loader, criterion, 'test')"
   ]
  },
  {
   "cell_type": "code",
   "execution_count": 17,
   "metadata": {},
   "outputs": [
    {
     "name": "stdout",
     "output_type": "stream",
     "text": [
      "0 epoch:\n",
      "  test phase:\n",
      "    Loss: 0.68187\n",
      "    Acc: 0.5605\n",
      "  train phase:\n",
      "    Loss: 0.68114\n",
      "    Acc: 0.56294\n",
      "Saving model_ann-0.pt...\n",
      "200 epoch:\n",
      "  test phase:\n",
      "    Loss: 0.56905\n",
      "    Acc: 0.6969\n",
      "  train phase:\n",
      "    Loss: 0.55102\n",
      "    Acc: 0.70986\n",
      "Saving model_ann-200.pt...\n",
      "400 epoch:\n",
      "  test phase:\n",
      "    Loss: 0.56447\n",
      "    Acc: 0.70082\n",
      "  train phase:\n",
      "    Loss: 0.54486\n",
      "    Acc: 0.71359\n",
      "Saving model_ann-400.pt...\n",
      "600 epoch:\n",
      "  test phase:\n",
      "    Loss: 0.5613\n",
      "    Acc: 0.70524\n",
      "  train phase:\n",
      "    Loss: 0.5404\n",
      "    Acc: 0.71785\n",
      "Saving model_ann-600.pt...\n",
      "800 epoch:\n",
      "  test phase:\n",
      "    Loss: 0.55937\n",
      "    Acc: 0.70573\n",
      "  train phase:\n",
      "    Loss: 0.53699\n",
      "    Acc: 0.71982\n",
      "Saving model_ann-800.pt...\n",
      "1000 epoch:\n",
      "  test phase:\n",
      "    Loss: 0.5592\n",
      "    Acc: 0.70739\n",
      "  train phase:\n",
      "    Loss: 0.53408\n",
      "    Acc: 0.72364\n",
      "Saving model_ann-1000.pt...\n",
      "1200 epoch:\n",
      "  test phase:\n",
      "    Loss: 0.55986\n",
      "    Acc: 0.7072\n",
      "  train phase:\n",
      "    Loss: 0.5316\n",
      "    Acc: 0.7257\n",
      "Saving model_ann-1200.pt...\n",
      "1400 epoch:\n",
      "  test phase:\n",
      "    Loss: 0.55962\n",
      "    Acc: 0.70661\n",
      "  train phase:\n",
      "    Loss: 0.52991\n",
      "    Acc: 0.72631\n",
      "Saving model_ann-1400.pt...\n",
      "1600 epoch:\n",
      "  test phase:\n",
      "    Loss: 0.55941\n",
      "    Acc: 0.70661\n",
      "  train phase:\n",
      "    Loss: 0.52845\n",
      "    Acc: 0.72675\n",
      "Saving model_ann-1600.pt...\n",
      "1800 epoch:\n",
      "  test phase:\n",
      "    Loss: 0.55856\n",
      "    Acc: 0.70681\n",
      "  train phase:\n",
      "    Loss: 0.52684\n",
      "    Acc: 0.72955\n",
      "Saving model_ann-1800.pt...\n",
      "1999 epoch:\n",
      "  test phase:\n",
      "    Loss: 0.55799\n",
      "    Acc: 0.70749\n",
      "  train phase:\n",
      "    Loss: 0.5253\n",
      "    Acc: 0.73163\n",
      "Saving model_ann-1999.pt...\n"
     ]
    }
   ],
   "source": [
    "ann_model = train_model(ann_model, train_loader, test_loader, 2000, 200, 200, criterion, optimizer)"
   ]
  },
  {
   "cell_type": "code",
   "execution_count": 179,
   "metadata": {},
   "outputs": [],
   "source": [
    "# ann_model(torch.from_numpy(x_test[1]).to(device)).argmax(0).item()"
   ]
  },
  {
   "cell_type": "markdown",
   "metadata": {},
   "source": [
    "## Accuracy"
   ]
  },
  {
   "cell_type": "code",
   "execution_count": 30,
   "metadata": {},
   "outputs": [],
   "source": [
    "from sklearn.metrics import classification_report\n",
    "from sklearn.metrics import confusion_matrix\n",
    "\n",
    "def confusion_matrix_plot(y_test, y_pred):\n",
    "    import mlxtend\n",
    "    from mlxtend.plotting import plot_confusion_matrix\n",
    "    CM = confusion_matrix(y_test, y_pred)\n",
    "    fig, ax = plot_confusion_matrix(conf_mat=CM ,  figsize=(3, 3))\n",
    "    plt.title(\"Default (0 - no, 1 - yes)\")\n",
    "    plt.show()\n",
    "\n",
    "def report(model, x_test, y_test):\n",
    "    y_pred = model.predict(x_test)\n",
    "    print(classification_report(y_test, y_pred))\n",
    "    confusion_matrix_plot(y_test, y_pred)    "
   ]
  },
  {
   "cell_type": "code",
   "execution_count": 42,
   "metadata": {},
   "outputs": [
    {
     "name": "stdout",
     "output_type": "stream",
     "text": [
      "              precision    recall  f1-score   support\n",
      "\n",
      "           0       0.61      0.61      0.61      4482\n",
      "           1       0.69      0.70      0.70      5716\n",
      "\n",
      "    accuracy                           0.66     10198\n",
      "   macro avg       0.65      0.65      0.65     10198\n",
      "weighted avg       0.66      0.66      0.66     10198\n",
      "\n"
     ]
    },
    {
     "data": {
      "image/png": "[encoded data removed]",
      "text/plain": [
       "<Figure size 216x216 with 1 Axes>"
      ]
     },
     "metadata": {
      "needs_background": "light"
     },
     "output_type": "display_data"
    }
   ],
   "source": [
    "'''\n",
    "SGD\n",
    "'''\n",
    "report(sgd_model, x_test, y_test)"
   ]
  },
  {
   "cell_type": "code",
   "execution_count": 43,
   "metadata": {},
   "outputs": [
    {
     "name": "stdout",
     "output_type": "stream",
     "text": [
      "              precision    recall  f1-score   support\n",
      "\n",
      "           0       0.61      0.58      0.59      4482\n",
      "           1       0.68      0.71      0.70      5716\n",
      "\n",
      "    accuracy                           0.65     10198\n",
      "   macro avg       0.65      0.65      0.65     10198\n",
      "weighted avg       0.65      0.65      0.65     10198\n",
      "\n"
     ]
    },
    {
     "data": {
      "image/png": "[encoded data removed]",
      "text/plain": [
       "<Figure size 216x216 with 1 Axes>"
      ]
     },
     "metadata": {
      "needs_background": "light"
     },
     "output_type": "display_data"
    }
   ],
   "source": [
    "'''\n",
    "Logistic Regression\n",
    "'''\n",
    "report(log_reg_moddel, x_test, y_test)"
   ]
  },
  {
   "cell_type": "code",
   "execution_count": 40,
   "metadata": {},
   "outputs": [
    {
     "name": "stdout",
     "output_type": "stream",
     "text": [
      "              precision    recall  f1-score   support\n",
      "\n",
      "           0       0.99      0.86      0.92      4482\n",
      "           1       0.90      1.00      0.95      5716\n",
      "\n",
      "    accuracy                           0.94     10198\n",
      "   macro avg       0.95      0.93      0.93     10198\n",
      "weighted avg       0.94      0.94      0.93     10198\n",
      "\n"
     ]
    },
    {
     "data": {
      "image/png": "[encoded data removed]",
      "text/plain": [
       "<Figure size 216x216 with 1 Axes>"
      ]
     },
     "metadata": {
      "needs_background": "light"
     },
     "output_type": "display_data"
    }
   ],
   "source": [
    "'''\n",
    "XGBOOST\n",
    "'''\n",
    "report(random_search, x_test, y_test)"
   ]
  },
  {
   "cell_type": "code",
   "execution_count": 186,
   "metadata": {},
   "outputs": [
    {
     "name": "stdout",
     "output_type": "stream",
     "text": [
      "              precision    recall  f1-score   support\n",
      "\n",
      "           0       0.68      0.63      0.65      4482\n",
      "           1       0.72      0.77      0.74      5716\n",
      "\n",
      "    accuracy                           0.71     10198\n",
      "   macro avg       0.70      0.70      0.70     10198\n",
      "weighted avg       0.70      0.71      0.70     10198\n",
      "\n"
     ]
    },
    {
     "data": {
      "image/png": "[encoded data removed]",
      "text/plain": [
       "<Figure size 216x216 with 1 Axes>"
      ]
     },
     "metadata": {
      "needs_background": "light"
     },
     "output_type": "display_data"
    }
   ],
   "source": [
    "'''\n",
    "ANN\n",
    "'''\n",
    "y_pred = ann_model(torch.from_numpy(x_test).to(device)).cpu().data.numpy().argmax(1)\n",
    "print(classification_report(y_test, y_pred))\n",
    "confusion_matrix_plot(y_test, y_pred)    "
   ]
  },
  {
   "cell_type": "markdown",
   "metadata": {},
   "source": [
    "##### The best is XGBOOST"
   ]
  },
  {
   "cell_type": "code",
   "execution_count": 44,
   "metadata": {},
   "outputs": [
    {
     "name": "stdout",
     "output_type": "stream",
     "text": [
      "XGBClassifier(base_score=0.5, booster=None, colsample_bylevel=1,\n",
      "              colsample_bynode=1, colsample_bytree=1.0, gamma=0.3, gpu_id=0,\n",
      "              importance_type='gain', interaction_constraints=None,\n",
      "              learning_rate=0.300000012, max_delta_step=0, max_depth=15,\n",
      "              min_child_weight=1, missing=nan, monotone_constraints=None,\n",
      "              n_estimators=100, n_jobs=1, nthread=1, num_parallel_tree=1,\n",
      "              objective='binary:logistic', random_state=0, reg_alpha=0,\n",
      "              reg_lambda=1, scale_pos_weight=1, silent=True, subsample=0.8,\n",
      "              tree_method='gpu_hist', validate_parameters=False,\n",
      "              verbosity=None)\n"
     ]
    }
   ],
   "source": [
    "print(random_search.best_estimator_)"
   ]
  }
 ],
 "metadata": {
  "kernelspec": {
   "display_name": "Python 3",
   "language": "python",
   "name": "python3"
  },
  "language_info": {
   "codemirror_mode": {
    "name": "ipython",
    "version": 3
   },
   "file_extension": ".py",
   "mimetype": "text/x-python",
   "name": "python",
   "nbconvert_exporter": "python",
   "pygments_lexer": "ipython3",
   "version": "3.7.6"
  }
 },
 "nbformat": 4,
 "nbformat_minor": 4
}
